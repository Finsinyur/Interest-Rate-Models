{
 "cells": [
  {
   "cell_type": "code",
   "execution_count": 1,
   "metadata": {},
   "outputs": [],
   "source": [
    "import warnings\n",
    "warnings.filterwarnings('ignore')\n",
    "\n",
    "import numpy as np\n",
    "from scipy.stats import norm\n",
    "from scipy import optimize"
   ]
  },
  {
   "cell_type": "markdown",
   "metadata": {},
   "source": [
    "# Some Basics: Caps and Floors\n",
    "\n",
    "## Cap\n",
    "\n",
    "A <i>Cap</i> is made up with a trip of <i>caplets</i>. A caplet is a derivatives on interest rate, much like a call option on interest rate such that it protects the buyer from rising interest rate. For a caplet with reset date at $T_0$ and a settlement date at $T_1$, the cashflow at $T_1$ for the caplet holder is as such:\n",
    "\n",
    "$$CF( T_1) = \\delta (L(T_0, T_1) - \\kappa)^+$$<br>\n",
    "\n",
    "The time-$T_0$ value of the caplet is then \n",
    "$$V(T_0, T_1) = P(T_0, T_1)\\delta (L(T_0,T_1)- \\kappa)^+$$<br>\n",
    "\n",
    "Rearranging, we get \n",
    "$$V(T_0, T_1) = (1+\\delta \\kappa)(\\frac{1}{1+\\delta \\kappa} - P(T_0, T_1))^+ = (1+\\delta \\kappa) \\times CF_{put}$$, \n",
    "\n",
    "where $CF_{put}$ is the cashflow of a put option on a $T_1$-Bond with expiry $T_0$ and a strike of $\\frac{1}{1+\\delta \\kappa}$.<br>\n",
    "\n",
    "Thus, the Time-t price of the caplet is given by \n",
    "$$Cpl(t,T_0,T_1) = (1+\\delta \\kappa)\\times p_{put}$$<br>\n",
    "\n",
    "A Cap is specified by:\n",
    "- reset/ settlement dates $T_0 < ... < T_N$\n",
    "- a cap rate $\\kappa$\n",
    "\n",
    "Assuming a cap with caplets which settlement dates are of equal interval ($\\delta$) away from the previous caplet, the cap price at time $t < T_0$ is given by:<br>\n",
    "$$Cp(t) = \\sum_{i=1}^n Cpl(t, T_{i-1}, T_i)$$<br>\n",
    "\n",
    "## Floor\n",
    "\n",
    "Conversely, a floor is made up of a strip of floorlets and it seeks to protect holder from falling interest rates.\n",
    "Cashflow of floorlets at time $T_1$ is $\\delta (\\kappa - L(T_{i-1}, T_{i}))^+$<br>\n",
    "$$Fl(t) = \\sum_{i=1}^n Fll(t, T_{i-1}, T_i)$$<br>\n",
    "\n",
    "## Cap-Floor Parity\n",
    "\n",
    "The following Cap-Floor Parity holds:\n",
    "$$Cp(t) - Fl(t) = V_p(t)$$\n",
    "\n",
    "Where $V_p(t)$ is the time-t value of a payer swap with fixed rate $\\kappa$, a notional value of 1, and the same tenor as the cap and floor.<br>\n",
    "\n",
    "The cap(floor) is said to be\n",
    "- <b>At-the-money (ATM)</b> if $\\kappa = R_{swap}(t) = \\frac{P(t,T_0) - P(t,T_n)}{\\delta \\sum_{i=1}^n P(t,T_i)}$\n",
    "- <b>In-the-money (ITM)</b> if cap: $\\kappa < R_{swap}(t)$, floor: $\\kappa > R_{swap}(t)$\n",
    "- <b>Out-of-the-money (OTM)</b> if cap: $\\kappa > R_{swap}(t)$, floor: $\\kappa < R_{swap}(t)$\n",
    "\n",
    "---"
   ]
  },
  {
   "cell_type": "markdown",
   "metadata": {},
   "source": [
    "# Exercise: Cap Pricing using Black's and Bachelier's Formulae\n",
    "\n",
    "Example derived from 'Interest Rate Models' course provided by EPFL on Coursera.<br>\n",
    "\n",
    "Problem Statement:<br>\n",
    "Suppose at $t = 0$,we observed the following forward rates<br>\n",
    "\n",
    "| T_0 | T_i | F |\n",
    "| --- | --- | --- |\n",
    "| 0 | $\\frac{1}{4}$ | 6\\% |\n",
    "| $\\frac{1}{4}$ | $\\frac{1}{2}$ | 8\\% |\n",
    "| $\\frac{1}{2}$ | $\\frac{3}{4}$ | 9\\% |\n",
    "| $\\frac{3}{4}$ | 1 | 10\\% |\n",
    "| 1 | $\\frac{5}{4}$ | 10\\% |\n",
    "| $\\frac{5}{4}$ | $\\frac{3}{2}$ | 10\\% |\n",
    "| $\\frac{3}{2}$ | $\\frac{7}{4}$ | 9\\% |\n",
    "| $\\frac{7}{4}$ | 2 | 9\\% |\n",
    "\n",
    "<br>\n",
    "\n",
    "Consider at-the-money cap with reset dates $\\frac{i}{4}$, where $i = 1,2,...,8$, solve:<br>\n",
    "1. For the implied Black volatility, suppose that the price of cap is 1\\%\n",
    "2. Suppose the same cap price, find the implied normal volatility (in bps)\n",
    "3. Obtain the cap price, assuming that the implied Black volatility is 14.1\\%"
   ]
  },
  {
   "cell_type": "code",
   "execution_count": 2,
   "metadata": {},
   "outputs": [],
   "source": [
    "# Set up given information into variables\n",
    "delta = 0.25\n",
    "forward_rates = [0.06, 0.08, 0.09, 0.10, 0.10, 0.10, 0.09, 0.09]"
   ]
  },
  {
   "cell_type": "code",
   "execution_count": 3,
   "metadata": {},
   "outputs": [
    {
     "name": "stdout",
     "output_type": "stream",
     "text": [
      "[1.         0.98522167 0.9659036  0.944649   0.92160878 0.89913052\n",
      " 0.87720051 0.8578978  0.83901986]\n"
     ]
    }
   ],
   "source": [
    "# Solve for discount curve (required for swap rate calculation)\n",
    "discount_prices = np.zeros(1+ len(forward_rates))\n",
    "discount_prices[0] = 1\n",
    "\n",
    "for i in range(8):\n",
    "    discount_prices[i+1] = discount_prices[i]/(1+delta*forward_rates[i])\n",
    "print(discount_prices)"
   ]
  },
  {
   "cell_type": "code",
   "execution_count": 4,
   "metadata": {},
   "outputs": [
    {
     "data": {
      "text/plain": [
       "array([0.08      , 0.08494438, 0.0898436 , 0.09229099, 0.09375836,\n",
       "       0.09316852, 0.0927469 ])"
      ]
     },
     "execution_count": 4,
     "metadata": {},
     "output_type": "execute_result"
    }
   ],
   "source": [
    "# Calculate swap rates for the different tenors\n",
    "R_swap = np.zeros(7)\n",
    "\n",
    "for i in range(len(R_swap)):\n",
    "    R_swap[i] = (discount_prices[1] - discount_prices[i+2])/(delta*np.sum(discount_prices[2:i+3]))\n",
    "\n",
    "R_swap"
   ]
  },
  {
   "cell_type": "markdown",
   "metadata": {},
   "source": [
    "# Cap Price by Black's Formula\n",
    "\n",
    "\n",
    "Recall that a cap is a strip of caplets, which is specified by:\n",
    "- reset/ settlement dates $T_0 < ... < T_n$\n",
    "- a cap rate $\\kappa$\n",
    "- assume fixed interval $\\delta = T_i - T_{i-1}$\n",
    "\n",
    "$$Cp(t) = \\sum_{i=1}^n Cpl(t, T_{i-1}, T_i)$$\n",
    "\n",
    "Black's Formula has the following assumptions:<br>\n",
    "Simple Spot Rate $L(T_{i-1}, T_i) = F(T_{i-1}, T_{i-1},T_i)$ is log-normal, with constant $\\sigma > 0$ and Brownian motion $W^{T_i}(t)$ under the $T_i$-forward measure.\n",
    "\n",
    "Where, by Black's Formula, <br>\n",
    "$$Cpl(t, T_{i-1}, T_i) = \\delta P(t,T_i)(F(t, T_{i-1},T_i)\\Phi(d_1) - \\kappa \\Phi(d_2)), i \\ge 1$$\n",
    "\n",
    "$$d_{1,2} = \\frac{log(\\frac{F(t,T_{i-1}, T_i)}{\\kappa}) \\pm 0.5 \\sigma^2(T_{i-1}-t)}{\\sigma \\sqrt{T_{i-1}-t}}$$\n",
    "$\\Phi(\\cdot)$ is the cumulative distribution function (cdf) of $(\\cdot)$"
   ]
  },
  {
   "cell_type": "code",
   "execution_count": 5,
   "metadata": {},
   "outputs": [],
   "source": [
    "def get_cap_price(discount_prices, forward_rates, strike, black_vola, periods, delta):\n",
    "    caplets = get_caplet_prices(discount_prices, forward_rates, strike, black_vola, periods, delta)\n",
    "    return np.sum(caplets)"
   ]
  },
  {
   "cell_type": "code",
   "execution_count": 6,
   "metadata": {},
   "outputs": [],
   "source": [
    "def get_caplet_prices(discount_prices, forward_rates, strike, black_vola, periods, delta):\n",
    "    d1, d2 = get_d_params(forward_rates, strike, black_vola, periods)\n",
    "    \n",
    "    return delta*discount_prices*(forward_rates*norm.cdf(d1)-strike*norm.cdf(d2))"
   ]
  },
  {
   "cell_type": "code",
   "execution_count": 7,
   "metadata": {},
   "outputs": [],
   "source": [
    "def get_d_params(forward_rates, strike, black_vola, periods):\n",
    "    # forward_rates should begin from first reset date\n",
    "    # periods should begin from first reset date, end one step before last period\n",
    "    numerator_1 = np.log(forward_rates/strike)\n",
    "    numerator_2 = 0.5*black_vola**2*periods\n",
    "    denominator = black_vola*np.sqrt(periods)\n",
    "    \n",
    "    d1 = (numerator_1 + numerator_2)/denominator\n",
    "    d2 = (numerator_1 - numerator_2)/denominator\n",
    "    \n",
    "    return d1, d2"
   ]
  },
  {
   "cell_type": "markdown",
   "metadata": {},
   "source": [
    "Given that the cap is priced at 1\\%, we will solve the root-solving optimization problem using Brent's method. We set the range between 0 and 1, as we expect the implied Black volatility to fall within this range."
   ]
  },
  {
   "cell_type": "code",
   "execution_count": 8,
   "metadata": {},
   "outputs": [],
   "source": [
    "def solve_black_vola(targets, Tn, discount_prices_s, forward_rates_s, periods, delta, strikes):\n",
    "    implied_volatility = []\n",
    "    for idx, n in enumerate(Tn):\n",
    "        print('====================== Initiating solution for case %s ======================' % (idx+1))\n",
    "        i = int(n/delta - 1)\n",
    "        discount_prices_required = discount_prices_s[0:i]\n",
    "        forward_rates_required = forward_rates_s[0:i]\n",
    "        periods_required = periods[0:i]\n",
    "        strike = strikes[i-1]\n",
    "        \n",
    "        sol = optimize.root_scalar(lambda vol: get_cap_price(discount_prices_required, forward_rates_required,\\\n",
    "                                                 strike, vol, periods_required, delta) - targets[idx],\\\n",
    "                                   bracket=[0, 1], method='brentq')\n",
    "        print('Cap market price = {0}. Solution for implied volatility (black) = {1}'.format(targets[idx], sol.root))\n",
    "        implied_volatility.append(sol.root)\n",
    "    return implied_volatility"
   ]
  },
  {
   "cell_type": "code",
   "execution_count": 9,
   "metadata": {
    "scrolled": true
   },
   "outputs": [
    {
     "name": "stdout",
     "output_type": "stream",
     "text": [
      "====================== Initiating solution for case 1 ======================\n",
      "Cap market price = 0.01. Solution for implied volatility (black) = 0.15347230483049518\n"
     ]
    }
   ],
   "source": [
    "targets =[0.01]\n",
    "Tn = [2]\n",
    "periods = np.arange(delta, 9*delta, delta)\n",
    "\n",
    "discount_prices_s = discount_prices[2:]\n",
    "forward_rates_s = forward_rates[1:]\n",
    "strikes = R_swap\n",
    "\n",
    "black_volatilities = solve_black_vola(targets, Tn, discount_prices_s, forward_rates_s, periods, delta, strikes)"
   ]
  },
  {
   "cell_type": "markdown",
   "metadata": {},
   "source": [
    "From our solution, the implied Black volatlity is 15.35\\% for a cap price of 1\\%."
   ]
  },
  {
   "cell_type": "code",
   "execution_count": 10,
   "metadata": {},
   "outputs": [
    {
     "name": "stdout",
     "output_type": "stream",
     "text": [
      "The price of cap with implied Black volatility of 14.1% is 0.94%.\n"
     ]
    }
   ],
   "source": [
    "# Solve for cap price given implied Black volatility of 14.1%\n",
    "periods_s = periods[0:7] \n",
    "discount_prices_s = discount_prices[2:9]\n",
    "forward_rates_s = forward_rates[1:8]\n",
    "strike = R_swap[-1]\n",
    "\n",
    "cap_price = get_cap_price(discount_prices_s, forward_rates_s, strike, 0.141, periods_s, delta)\n",
    "print('The price of cap with implied Black volatility of 14.1% is {}%.'.format(round(cap_price*100,2)))"
   ]
  },
  {
   "cell_type": "markdown",
   "metadata": {},
   "source": [
    "---"
   ]
  },
  {
   "cell_type": "markdown",
   "metadata": {},
   "source": [
    "# Cap Price by Bachelier's Formula\n",
    "\n",
    "Bachelier's formula assumes that $L(T_{i-1},T_i) = F(T_{i-1}, T_{i-1}, T_i)$ is normal, with $dF(t, T_{i-1}, T_i) = \\sigma dW^{T_i}(t)$, with constant $\\sigma > 0$ and Brownian motion $W^{T_i}(t)$ under the $T_i$-forward measure.<br>\n",
    "\n",
    "$$Cp(t) = \\sum_{i=1}^n Cpl(t, T_{i-1}, T_i)$$\n",
    "\n",
    "Where, by Bachelier's Formula, <br>\n",
    "$$Cpl(t, T_{i-1}, T_i) = \\delta P(t,T_i)\\sigma \\sqrt{T_{i-1}-t}(D\\Phi (D) + \\phi(D)), i \\ge 1$$\n",
    "And\n",
    "$$D = \\frac{F(t,T_{i-1},T_i) - \\kappa}{\\sigma \\sqrt{T_{i-1}-t}}$$"
   ]
  },
  {
   "cell_type": "code",
   "execution_count": 11,
   "metadata": {},
   "outputs": [],
   "source": [
    "def get_bach_cap_price(discount_prices, forward_rates, strike, bach_vola, periods, delta):\n",
    "    caplets = get_bachelier_caplet_prices(discount_prices, forward_rates, strike, bach_vola, periods, delta)\n",
    "\n",
    "    return np.sum(caplets)"
   ]
  },
  {
   "cell_type": "code",
   "execution_count": 12,
   "metadata": {},
   "outputs": [],
   "source": [
    "def get_bachelier_caplet_prices(discount_prices, forward_rates, strike, bach_vola, periods, delta):\n",
    "    D = get_D_params(forward_rates, strike, bach_vola, periods)\n",
    "\n",
    "    return delta*discount_prices*bach_vola*np.sqrt(periods)*(D*norm.cdf(D)+norm.pdf(D))"
   ]
  },
  {
   "cell_type": "code",
   "execution_count": 13,
   "metadata": {},
   "outputs": [],
   "source": [
    "def get_D_params(forward_rates, strike, bach_vola, periods):\n",
    "\n",
    "    numerator = (forward_rates - strike).reshape(-1,1)\n",
    "    denominator = (bach_vola*np.sqrt(periods)).reshape(-1,1)\n",
    "    \n",
    "    return numerator / denominator"
   ]
  },
  {
   "cell_type": "code",
   "execution_count": 14,
   "metadata": {},
   "outputs": [],
   "source": [
    "def solve_bach_vola(targets, Tn, discount_prices_s, forward_rates_s, periods, delta, strikes):\n",
    "    implied_volatility = []\n",
    "    for idx, n in enumerate(Tn):\n",
    "        print('====================== Initiating solution for case %s ======================' % (idx+1))\n",
    "        i = int(n/delta - 1)\n",
    "        discount_prices_required = np.array(discount_prices_s[0:i]).reshape(-1,1)\n",
    "        forward_rates_required = np.array(forward_rates_s[0:i]).reshape(-1,1)\n",
    "        periods_required = np.array(periods[0:i]).reshape(-1,1)\n",
    "        strike = np.array(strikes[i-1]).reshape(-1,1)\n",
    "        \n",
    "        sol = optimize.root_scalar(lambda vol: get_bach_cap_price(discount_prices_required, forward_rates_required,\\\n",
    "                                                 strike, vol, periods_required, delta) - targets[idx],\\\n",
    "                                   bracket=[0.0001, 0.5], method='brentq')\n",
    "        print('Cap market price = {0}. Solution for implied volatility (bach) = {1}'.format(targets[idx], sol.root))\n",
    "        implied_volatility.append(sol.root)\n",
    "    return implied_volatility"
   ]
  },
  {
   "cell_type": "code",
   "execution_count": 15,
   "metadata": {},
   "outputs": [
    {
     "name": "stdout",
     "output_type": "stream",
     "text": [
      "====================== Initiating solution for case 1 ======================\n",
      "Cap market price = 0.01. Solution for implied volatility (bach) = 0.014335991583284793\n",
      "\n",
      "The implied normal volatility of a cap with price of 1.00% is 143.36 bps\n"
     ]
    }
   ],
   "source": [
    "targets =[0.01]\n",
    "Tn = [2]\n",
    "periods = np.arange(delta, 9*delta, delta)\n",
    "\n",
    "discount_prices_s = discount_prices[2:]\n",
    "forward_rates_s = forward_rates[1:]\n",
    "strikes = R_swap\n",
    "\n",
    "bach_volatilities = solve_bach_vola(targets, Tn, discount_prices_s, forward_rates_s, periods, delta, strikes)\n",
    "\n",
    "print('\\nThe implied normal volatility of a cap with price of 1.00% is {} bps'.format(round(bach_volatilities[0]*100**2,2)))"
   ]
  }
 ],
 "metadata": {
  "kernelspec": {
   "display_name": "Python 3",
   "language": "python",
   "name": "python3"
  },
  "language_info": {
   "codemirror_mode": {
    "name": "ipython",
    "version": 3
   },
   "file_extension": ".py",
   "mimetype": "text/x-python",
   "name": "python",
   "nbconvert_exporter": "python",
   "pygments_lexer": "ipython3",
   "version": "3.8.5"
  }
 },
 "nbformat": 4,
 "nbformat_minor": 4
}
